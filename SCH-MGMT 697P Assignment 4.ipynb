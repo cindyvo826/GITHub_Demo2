{
 "cells": [
  {
   "cell_type": "markdown",
   "metadata": {},
   "source": [
    "# Assignment 4\n",
    "### Due:  Wednesday, April 3rd 11:59 pm\n",
    "The following assignment relies heavily on the content covered in the week 4 notes.  Many of the operations you are asked to do here resemble those we went over in class.  Please make sure to reference lesson 4.1 and especially lesson 4.2 notes to guide you through these exercises.  You will need to examine the page:  https://www.marketwatch.com/investing/stock/aapl to understand the structure (tags, classes).  \n",
    "#### Documentation\n",
    "[requests library](http://docs.python-requests.org/en/master/)  \n",
    "[beautifulsoup library](https://www.crummy.com/software/BeautifulSoup/bs4/doc/)  "
   ]
  },
  {
   "cell_type": "markdown",
   "metadata": {},
   "source": [
    "### Problem 1\n",
    "The following is a method we can use to open a file called data_file.txt. "
   ]
  },
  {
   "cell_type": "markdown",
   "metadata": {},
   "source": [
    "a. Turn the following code into a try and except block printing our an informative message when the file doesn't open (which it won't).\n",
    "```\n",
    "with open('data_file.txt') as data:\n",
    "    read_data = data.read()\n",
    "```"
   ]
  },
  {
   "cell_type": "code",
   "execution_count": 17,
   "metadata": {},
   "outputs": [
    {
     "name": "stdout",
     "output_type": "stream",
     "text": [
      "Could not open data_file.text\n"
     ]
    }
   ],
   "source": [
    "# code here\n",
    "try:\n",
    "    with open('data_file.txt') as data:\n",
    "     read_data=data.read()\n",
    "\n",
    "except:\n",
    "    print(\"Could not open data_file.text\")\n",
    "    \n",
    "    \n",
    "# returns: Could not open data_file.txt"
   ]
  },
  {
   "cell_type": "markdown",
   "metadata": {},
   "source": [
    "b.  Briefly desribe the importance of handling exceptions in programming. "
   ]
  },
  {
   "cell_type": "markdown",
   "metadata": {},
   "source": [
    "Answer:  The importance of handline exceptions in programming allows us to continue the flow of the program even when there is an error."
   ]
  },
  {
   "cell_type": "markdown",
   "metadata": {},
   "source": [
    "The rest of this assignment will rely on the following libraries.  You will need to import them again as part of your functions. "
   ]
  },
  {
   "cell_type": "code",
   "execution_count": 21,
   "metadata": {},
   "outputs": [],
   "source": [
    "#Packages\n",
    "#Web scraping packages\n",
    "from bs4 import BeautifulSoup\n",
    "import requests\n",
    "#Pandas for data manipulation\n",
    "import pandas as pd"
   ]
  },
  {
   "cell_type": "markdown",
   "metadata": {},
   "source": [
    "### Problem 2\n",
    "This problem is all about web-scraping with requests and BeautifulSoup.  "
   ]
  },
  {
   "cell_type": "markdown",
   "metadata": {},
   "source": [
    "a.  Run a get request to url=\"https://www.marketwatch.com/investing/stock/\"+\"aapl\" and store the object returned as 'response'.  If the status code is not 200, print \"request not successful\"."
   ]
  },
  {
   "cell_type": "code",
   "execution_count": 23,
   "metadata": {},
   "outputs": [
    {
     "name": "stdout",
     "output_type": "stream",
     "text": [
      "200\n"
     ]
    }
   ],
   "source": [
    "# Define the url\n",
    "url=\"https://www.marketwatch.com/investing/stock/aapl\"\n",
    "# create the response from the get request\n",
    "\n",
    "response=requests.get(url)\n",
    "if response.status_code == 200:\n",
    "    print(\"200\")\n",
    "else:\n",
    "    print(\"Request not successful\")\n",
    "\n",
    "\n"
   ]
  },
  {
   "cell_type": "markdown",
   "metadata": {},
   "source": [
    "b.  Referencing the above response, create BeautifulSoup object called \"results_page\" parsed with 'lxml'."
   ]
  },
  {
   "cell_type": "code",
   "execution_count": 25,
   "metadata": {},
   "outputs": [],
   "source": [
    "# build the BeautifulSoup object and name it results_page\n",
    "results_page=BeautifulSoup(response.content,'lxml')\n"
   ]
  },
  {
   "cell_type": "markdown",
   "metadata": {},
   "source": [
    "c.  On the webpage:  https://www.marketwatch.com/investing/stock/aapl, for the section called \"Key Data\". Inspect the page and verify that the tag/class combination that uniquely identifies each of the items in this table is 'li'/'kv_item'.  Find all elements identified by a tag of 'li' and a class_='kv_item'.  "
   ]
  },
  {
   "cell_type": "code",
   "execution_count": 26,
   "metadata": {
    "scrolled": true
   },
   "outputs": [
    {
     "name": "stdout",
     "output_type": "stream",
     "text": [
      "<class 'bs4.element.ResultSet'>\n"
     ]
    }
   ],
   "source": [
    "# find all elements with the tag \"li\" and class_=\"kv__item\"\n",
    "key_data=results_page.find_all('li',class_='kv__item')\n",
    "\n",
    "# print the data type for the kv_data object\n",
    "\n",
    "print(type(key_data))"
   ]
  },
  {
   "cell_type": "markdown",
   "metadata": {},
   "source": [
    "d. The code to answer the above question should have returned a list.  Print the first item in this list.  You should get:\n",
    "```\n",
    "<li class=\"kv__item\">\n",
    "<small class=\"kv__label\">Open</small>\n",
    "<span class=\"kv__value kv__primary \">$188.75</span>\n",
    "<span class=\"kv__value kv__secondary no-value\"></span>\n",
    "</li>\n",
    "```"
   ]
  },
  {
   "cell_type": "code",
   "execution_count": 27,
   "metadata": {},
   "outputs": [
    {
     "name": "stdout",
     "output_type": "stream",
     "text": [
      "<li class=\"kv__item\">\n",
      "<small class=\"kv__label\">Open</small>\n",
      "<span class=\"kv__value kv__primary \">$193.25</span>\n",
      "<span class=\"kv__value kv__secondary no-value\"></span>\n",
      "</li>\n"
     ]
    }
   ],
   "source": [
    "# print the first item in the list you generated above\n",
    "print(key_data[0])"
   ]
  },
  {
   "cell_type": "markdown",
   "metadata": {},
   "source": [
    "Extract the label \"Open\" and the value \"$188.75\"\n",
    "\n",
    "Note:  values will differ."
   ]
  },
  {
   "cell_type": "code",
   "execution_count": 28,
   "metadata": {},
   "outputs": [
    {
     "name": "stdout",
     "output_type": "stream",
     "text": [
      "Open\n",
      "$193.25\n"
     ]
    }
   ],
   "source": [
    "# extract the label \n",
    "label=key_data[0].find(class_='kv__label')\n",
    "print(label.get_text())\n",
    "\n",
    "# extract the value\n",
    "value=key_data[0].find(class_='kv__primary')\n",
    "print(value.get_text())\n",
    "\n",
    "# print the results"
   ]
  },
  {
   "cell_type": "markdown",
   "metadata": {},
   "source": [
    "e.  We need to be able to extract the text for each of the items in the key_data object.  Write a for loop to extract the label and primary value creating a list of the form [(label, value), (label,value),...]"
   ]
  },
  {
   "cell_type": "code",
   "execution_count": 29,
   "metadata": {
    "scrolled": false
   },
   "outputs": [
    {
     "name": "stdout",
     "output_type": "stream",
     "text": [
      "[('Open', '$193.25'), ('Day Range', '193.15 - 196.50'), ('52 Week Range', '142.00 - 233.47'), ('Market Cap', '$914.86B'), ('Shares Outstanding', '4.72B'), ('Public Float', '4.71B'), ('Beta', '1.19'), ('Rev. per Employee', '$1.98M'), ('P/E Ratio', '16.10'), ('EPS', '$12.16'), ('Yield', '1.49%'), ('Dividend', '$0.73'), ('Ex-Dividend Date', 'Feb 8, 2019'), ('Short Interest', '72.75M'), ('% of Float Shorted', '1.55%'), ('Average Volume', '31.99M')]\n"
     ]
    }
   ],
   "source": [
    "# initialize an empty list\n",
    "kd_list=[]\n",
    "# loop over the items obtained in the key_data object extracting the label and value from each\n",
    "for kd in key_data:\n",
    "    klabel=kd.find(class_='kv__label').get_text()\n",
    "    kvalue=kd.find(class_='kv__primary').get_text()\n",
    "    kd_list.append((klabel,kvalue))\n",
    "\n",
    "\n",
    "\n",
    "# print the result\n",
    "print(kd_list)"
   ]
  },
  {
   "cell_type": "markdown",
   "metadata": {},
   "source": [
    "f. Optional Challenge:  \n",
    "\n",
    "Combine all of the above into a function that accepts a stock symbol as an argument and returns the list of (label, value) pairs.  "
   ]
  },
  {
   "cell_type": "code",
   "execution_count": 39,
   "metadata": {},
   "outputs": [],
   "source": [
    "def get_key_data(symbol):\n",
    "    kd_list=[]\n",
    "    import requests\n",
    "    from bs4 import BeautifulSoup\n",
    "    url=\"https://www.marketwatch.com/investing/stock/aapl\"\n",
    "    response=requests.get(url)\n",
    "    if not response.status_code == 200:\n",
    "     print(\"Request not successful\")\n",
    "\n",
    "    \n",
    "    try:\n",
    "        results_page=BeautifulSoup(response.content,'lxml')\n",
    "        key_data=results_page.find_all('li',class_='kv__item')\n",
    "        for kd in key_data:\n",
    "            klabel=kd.find(class_='kv__label').get_text()\n",
    "            kvalue=kd.find(class_='kv__primary').get_text()\n",
    "            kd_list.append((klabel,kvalue))\n",
    "        return kd_list\n",
    "\n",
    "        \n",
    "    except:\n",
    "        return None\n",
    "            "
   ]
  },
  {
   "cell_type": "markdown",
   "metadata": {},
   "source": [
    "Run the function"
   ]
  },
  {
   "cell_type": "code",
   "execution_count": 40,
   "metadata": {},
   "outputs": [],
   "source": [
    "results = get_key_data(\"aapl\")"
   ]
  },
  {
   "cell_type": "markdown",
   "metadata": {},
   "source": [
    "g. Optional:\n",
    "\n",
    "Use pandas to create a dataframe from the data you extracted. "
   ]
  },
  {
   "cell_type": "code",
   "execution_count": 41,
   "metadata": {},
   "outputs": [
    {
     "data": {
      "text/html": [
       "<div>\n",
       "<style scoped>\n",
       "    .dataframe tbody tr th:only-of-type {\n",
       "        vertical-align: middle;\n",
       "    }\n",
       "\n",
       "    .dataframe tbody tr th {\n",
       "        vertical-align: top;\n",
       "    }\n",
       "\n",
       "    .dataframe thead th {\n",
       "        text-align: right;\n",
       "    }\n",
       "</style>\n",
       "<table border=\"1\" class=\"dataframe\">\n",
       "  <thead>\n",
       "    <tr style=\"text-align: right;\">\n",
       "      <th></th>\n",
       "      <th>0</th>\n",
       "      <th>1</th>\n",
       "    </tr>\n",
       "  </thead>\n",
       "  <tbody>\n",
       "    <tr>\n",
       "      <th>0</th>\n",
       "      <td>Open</td>\n",
       "      <td>$193.25</td>\n",
       "    </tr>\n",
       "    <tr>\n",
       "      <th>1</th>\n",
       "      <td>Day Range</td>\n",
       "      <td>193.15 - 196.50</td>\n",
       "    </tr>\n",
       "    <tr>\n",
       "      <th>2</th>\n",
       "      <td>52 Week Range</td>\n",
       "      <td>142.00 - 233.47</td>\n",
       "    </tr>\n",
       "    <tr>\n",
       "      <th>3</th>\n",
       "      <td>Market Cap</td>\n",
       "      <td>$914.86B</td>\n",
       "    </tr>\n",
       "    <tr>\n",
       "      <th>4</th>\n",
       "      <td>Shares Outstanding</td>\n",
       "      <td>4.72B</td>\n",
       "    </tr>\n",
       "    <tr>\n",
       "      <th>5</th>\n",
       "      <td>Public Float</td>\n",
       "      <td>4.71B</td>\n",
       "    </tr>\n",
       "    <tr>\n",
       "      <th>6</th>\n",
       "      <td>Beta</td>\n",
       "      <td>1.19</td>\n",
       "    </tr>\n",
       "    <tr>\n",
       "      <th>7</th>\n",
       "      <td>Rev. per Employee</td>\n",
       "      <td>$1.98M</td>\n",
       "    </tr>\n",
       "    <tr>\n",
       "      <th>8</th>\n",
       "      <td>P/E Ratio</td>\n",
       "      <td>16.11</td>\n",
       "    </tr>\n",
       "    <tr>\n",
       "      <th>9</th>\n",
       "      <td>EPS</td>\n",
       "      <td>$12.16</td>\n",
       "    </tr>\n",
       "    <tr>\n",
       "      <th>10</th>\n",
       "      <td>Yield</td>\n",
       "      <td>1.49%</td>\n",
       "    </tr>\n",
       "    <tr>\n",
       "      <th>11</th>\n",
       "      <td>Dividend</td>\n",
       "      <td>$0.73</td>\n",
       "    </tr>\n",
       "    <tr>\n",
       "      <th>12</th>\n",
       "      <td>Ex-Dividend Date</td>\n",
       "      <td>Feb 8, 2019</td>\n",
       "    </tr>\n",
       "    <tr>\n",
       "      <th>13</th>\n",
       "      <td>Short Interest</td>\n",
       "      <td>72.75M</td>\n",
       "    </tr>\n",
       "    <tr>\n",
       "      <th>14</th>\n",
       "      <td>% of Float Shorted</td>\n",
       "      <td>1.55%</td>\n",
       "    </tr>\n",
       "    <tr>\n",
       "      <th>15</th>\n",
       "      <td>Average Volume</td>\n",
       "      <td>31.99M</td>\n",
       "    </tr>\n",
       "  </tbody>\n",
       "</table>\n",
       "</div>"
      ],
      "text/plain": [
       "                     0                1\n",
       "0                 Open          $193.25\n",
       "1            Day Range  193.15 - 196.50\n",
       "2        52 Week Range  142.00 - 233.47\n",
       "3           Market Cap         $914.86B\n",
       "4   Shares Outstanding            4.72B\n",
       "5         Public Float            4.71B\n",
       "6                 Beta             1.19\n",
       "7    Rev. per Employee           $1.98M\n",
       "8            P/E Ratio            16.11\n",
       "9                  EPS           $12.16\n",
       "10               Yield            1.49%\n",
       "11            Dividend            $0.73\n",
       "12    Ex-Dividend Date      Feb 8, 2019\n",
       "13      Short Interest           72.75M\n",
       "14  % of Float Shorted            1.55%\n",
       "15      Average Volume           31.99M"
      ]
     },
     "execution_count": 41,
     "metadata": {},
     "output_type": "execute_result"
    }
   ],
   "source": [
    "import pandas as pd\n",
    "pd.DataFrame(results)"
   ]
  },
  {
   "cell_type": "code",
   "execution_count": null,
   "metadata": {},
   "outputs": [],
   "source": []
  },
  {
   "cell_type": "code",
   "execution_count": null,
   "metadata": {},
   "outputs": [],
   "source": []
  }
 ],
 "metadata": {
  "kernelspec": {
   "display_name": "Python 3",
   "language": "python",
   "name": "python3"
  },
  "language_info": {
   "codemirror_mode": {
    "name": "ipython",
    "version": 3
   },
   "file_extension": ".py",
   "mimetype": "text/x-python",
   "name": "python",
   "nbconvert_exporter": "python",
   "pygments_lexer": "ipython3",
   "version": "3.7.1"
  }
 },
 "nbformat": 4,
 "nbformat_minor": 2
}
